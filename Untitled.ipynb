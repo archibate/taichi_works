{
 "cells": [
  {
   "cell_type": "code",
   "execution_count": 29,
   "metadata": {
    "collapsed": true
   },
   "outputs": [
    {
     "ename": "AttributeError",
     "evalue": "'TensorHead' object has no attribute 'diff'",
     "output_type": "error",
     "traceback": [
      "\u001b[0;31m---------------------------------------------------------------------------\u001b[0m",
      "\u001b[0;31mAttributeError\u001b[0m                            Traceback (most recent call last)",
      "\u001b[0;32m<ipython-input-29-9e4527946710>\u001b[0m in \u001b[0;36m<module>\u001b[0;34m\u001b[0m\n\u001b[1;32m      8\u001b[0m \u001b[0mA\u001b[0m \u001b[0;34m=\u001b[0m \u001b[0mTensorHead\u001b[0m\u001b[0;34m(\u001b[0m\u001b[0;34m'A'\u001b[0m\u001b[0;34m,\u001b[0m \u001b[0;34m[\u001b[0m\u001b[0mT\u001b[0m\u001b[0;34m,\u001b[0m \u001b[0mT\u001b[0m\u001b[0;34m]\u001b[0m\u001b[0;34m)\u001b[0m\u001b[0;34m\u001b[0m\u001b[0;34m\u001b[0m\u001b[0m\n\u001b[1;32m      9\u001b[0m \u001b[0mB\u001b[0m \u001b[0;34m=\u001b[0m \u001b[0mTensorHead\u001b[0m\u001b[0;34m(\u001b[0m\u001b[0;34m'B'\u001b[0m\u001b[0;34m,\u001b[0m \u001b[0;34m[\u001b[0m\u001b[0mT\u001b[0m\u001b[0;34m,\u001b[0m \u001b[0mT\u001b[0m\u001b[0;34m]\u001b[0m\u001b[0;34m)\u001b[0m\u001b[0;34m\u001b[0m\u001b[0;34m\u001b[0m\u001b[0m\n\u001b[0;32m---> 10\u001b[0;31m \u001b[0mprint\u001b[0m\u001b[0;34m(\u001b[0m\u001b[0mA\u001b[0m\u001b[0;34m.\u001b[0m\u001b[0mdiff\u001b[0m\u001b[0;34m(\u001b[0m\u001b[0;34m)\u001b[0m\u001b[0;34m)\u001b[0m\u001b[0;34m\u001b[0m\u001b[0;34m\u001b[0m\u001b[0m\n\u001b[0m",
      "\u001b[0;31mAttributeError\u001b[0m: 'TensorHead' object has no attribute 'diff'"
     ]
    }
   ],
   "source": [
    "import sympy as sp\n",
    "from sympy.tensor.tensor import TensorIndexType, TensorIndex, TensorHead, tensor_indices\n",
    "from sympy.abc import x, y, z\n",
    "\n",
    "T = TensorIndexType('Euclid')\n",
    "a, b, c, d = tensor_indices('a, b, c, d', T)\n",
    "\n",
    "A = TensorHead('A', [T, T])\n",
    "B = TensorHead('B', [T, T])\n",
    "print(A.diff())"
   ]
  },
  {
   "cell_type": "code",
   "execution_count": 35,
   "metadata": {},
   "outputs": [
    {
     "name": "stdout",
     "output_type": "stream",
     "text": [
      "-x**2/(x**2 + y**2)**(3/2) + 1/sqrt(x**2 + y**2)\n",
      "-x*y/(x**2 + y**2)**(3/2)\n",
      "3*x**3/(x**2 + y**2)**(5/2) - 3*x/(x**2 + y**2)**(3/2)\n",
      "3*x**2*y/(x**2 + y**2)**(5/2) - y/(x**2 + y**2)**(3/2)\n",
      "3*x*y**2/(x**2 + y**2)**(5/2) - x/(x**2 + y**2)**(3/2)\n",
      "-15*x**4/(x**2 + y**2)**(7/2) + 18*x**2/(x**2 + y**2)**(5/2) - 3/(x**2 + y**2)**(3/2)\n",
      "-15*x**3*y/(x**2 + y**2)**(7/2) + 9*x*y/(x**2 + y**2)**(5/2)\n",
      "-15*x**2*y**2/(x**2 + y**2)**(7/2) + 3*x**2/(x**2 + y**2)**(5/2) + 3*y**2/(x**2 + y**2)**(5/2) - 1/(x**2 + y**2)**(3/2)\n",
      "-15*x*y**3/(x**2 + y**2)**(7/2) + 9*x*y/(x**2 + y**2)**(5/2)\n"
     ]
    }
   ],
   "source": [
    "import sympy as sp\n",
    "from sympy.abc import x, y\n",
    "\n",
    "g = x / sp.sqrt(x ** 2 + y ** 2)\n",
    "gx = sp.diff(g, x)\n",
    "gy = sp.diff(g, y)\n",
    "gxx = sp.diff(gx, x)\n",
    "gxy = sp.diff(gx, y)\n",
    "gyy = sp.diff(gy, y)\n",
    "gxxx = sp.diff(gxx, x)\n",
    "gxxy = sp.diff(gxx, y)\n",
    "gxyy = sp.diff(gxy, y)\n",
    "gyyy = sp.diff(gyy, y)\n",
    "print(gx, gy, sep='\\n')\n",
    "print(gxx, gxy, gyy, sep='\\n')\n",
    "print(gxxx, gxxy, gxyy, gyyy, sep='\\n')"
   ]
  }
 ],
 "metadata": {
  "kernelspec": {
   "display_name": "Python 3",
   "language": "python",
   "name": "python3"
  },
  "language_info": {
   "codemirror_mode": {
    "name": "ipython",
    "version": 3
   },
   "file_extension": ".py",
   "mimetype": "text/x-python",
   "name": "python",
   "nbconvert_exporter": "python",
   "pygments_lexer": "ipython3",
   "version": "3.8.3"
  }
 },
 "nbformat": 4,
 "nbformat_minor": 4
}
